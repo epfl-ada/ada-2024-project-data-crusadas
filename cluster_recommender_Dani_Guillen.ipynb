{
 "cells": [
  {
   "cell_type": "markdown",
   "metadata": {},
   "source": [
    "# 3.\n",
    "\n",
    "\n",
    "To improve user engagement on **BeerAdvocate**, we developed a system to map users to predefined beer clusters based on their preferences and see to which communities they belong to. Using data from beer reviews, we applied **Principal Component Analysis (PCA)** to the beer reviews text to reduce the dimensionality of the dataset and identify key beer characteristics of each clusters. With the 5 principal components (PCs), we saw that the key characteristics that describes a beer were present in those 5 Principal Components which captured distinctions such as \"balanced beers vs. rich and complex beers\" and \"sour and tart beers vs. hop-forward beers.\" These PCs were used to define clusters that represent unique beer styles, such as IPAs, stouts, and lagers. We then crafted five user-friendly questions aligned with the PCs that we had to interpret, allowing users to express their preferences on a scale of **-1 to 1** for each question.\n",
    "\n",
    "\n",
    "User responses are normalized and scaled to align with the PCA space of cluster centroids. By calculating the Euclidean distance between the user's position in PCA space and the centroids of each cluster, we assign the user to the nearest cluster. This system enhances BeerAdvocate's user experience by delivering tailored recommendations, enabling users to explore beer styles aligned with their tastes, and providing actionable insights into user preferences for platform improvement and targeted marketing. This interactive approach bridges the gap between user engagement and beer discovery, offering a personalized, data-driven experience. It also allows the user to find like-minded people who think like him but most importantly *drink* like him!"
   ]
  },
  {
   "cell_type": "code",
   "execution_count": 2,
   "metadata": {},
   "outputs": [],
   "source": [
    "import json\n",
    "import os\n",
    "import numpy as np\n",
    "import pandas as pd\n",
    "import matplotlib.pyplot as plt\n",
    "import seaborn as sns\n",
    "import re\n",
    "import string\n",
    "import swifter\n",
    "\n",
    "from sklearn.feature_extraction.text import TfidfVectorizer\n",
    "from sklearn.decomposition import TruncatedSVD\n",
    "from sklearn.preprocessing import StandardScaler\n",
    "from beerdata_loader import BeerDataLoader"
   ]
  },
  {
   "cell_type": "markdown",
   "metadata": {},
   "source": [
    "#### Loading of the data"
   ]
  },
  {
   "cell_type": "code",
   "execution_count": 3,
   "metadata": {},
   "outputs": [
    {
     "name": "stdout",
     "output_type": "stream",
     "text": [
      "Processed file './data/reviews_processed.csv' already exists. Skipping processing.\n",
      "Processed file './data/ratings_processed.csv' already exists. Skipping processing.\n"
     ]
    }
   ],
   "source": [
    "data_loader = BeerDataLoader(data_dir=\"./data/\", force_process=False)\n",
    "\n",
    "ba_reviews_df, ba_ratings_df, ba_beers_df, ba_breweries_df, ba_users_df = data_loader.load_all_data()"
   ]
  },
  {
   "cell_type": "markdown",
   "metadata": {},
   "source": [
    "#### Mapping each beer to the appropriate cluster"
   ]
  },
  {
   "cell_type": "code",
   "execution_count": 4,
   "metadata": {},
   "outputs": [],
   "source": [
    "partition_file = \"data/partition.json\"\n",
    "with open(partition_file, \"r\") as f:\n",
    "    partition = json.load(f)\n",
    "\n",
    "# Map beer_id to cluster\n",
    "beer_cluster_map = {int(k): v for k, v in partition.items()}\n",
    "# Add cluster information to beers\n",
    "ba_beers_df[\"cluster\"] = ba_beers_df[\"beer_id\"].map(beer_cluster_map)\n",
    "\n",
    "# Filter reviews to only those beers in the cluster map\n",
    "ba_reviews_df = ba_reviews_df[ba_reviews_df[\"beer_id\"].isin(beer_cluster_map.keys())]\n",
    "\n",
    "# Drop rows without text and ensure text is a string\n",
    "ba_reviews_df = ba_reviews_df.dropna(subset=[\"text\"])\n",
    "ba_reviews_df[\"text\"] = ba_reviews_df[\"text\"].astype(str)"
   ]
  },
  {
   "cell_type": "markdown",
   "metadata": {},
   "source": [
    "#### Combining the reviews by beer and aggregating the reviews each beer got"
   ]
  },
  {
   "cell_type": "code",
   "execution_count": 5,
   "metadata": {},
   "outputs": [],
   "source": [
    "beer_texts = (\n",
    "    ba_reviews_df.groupby(\"beer_id\")[\"text\"]\n",
    "    .agg(' '.join)\n",
    "    .reset_index()\n",
    ")\n",
    "\n",
    "# Merge with cluster information\n",
    "beer_texts = beer_texts.merge(ba_beers_df[[\"beer_id\", \"cluster\"]], on=\"beer_id\", how=\"left\")\n",
    "beer_texts = beer_texts.dropna(subset=[\"cluster\"])\n",
    "\n",
    "# Convert cluster to category for efficiency\n",
    "beer_texts[\"cluster\"] = beer_texts[\"cluster\"].astype(\"category\")"
   ]
  },
  {
   "cell_type": "markdown",
   "metadata": {},
   "source": [
    "#### Looking at the distribution of cluster 0-8"
   ]
  },
  {
   "cell_type": "code",
   "execution_count": 6,
   "metadata": {},
   "outputs": [
    {
     "name": "stdout",
     "output_type": "stream",
     "text": [
      "\n",
      "Distribution of beers by cluster after filtering (0-8):\n",
      "Cluster 0.0: 21575 beers, cumulative %: 16.46%\n",
      "Cluster 1.0: 4323 beers, cumulative %: 19.76%\n",
      "Cluster 2.0: 18464 beers, cumulative %: 33.85%\n",
      "Cluster 3.0: 19754 beers, cumulative %: 48.92%\n",
      "Cluster 4.0: 15250 beers, cumulative %: 60.56%\n",
      "Cluster 5.0: 24507 beers, cumulative %: 79.26%\n",
      "Cluster 6.0: 15632 beers, cumulative %: 91.18%\n",
      "Cluster 7.0: 9933 beers, cumulative %: 98.76%\n",
      "Cluster 8.0: 1623 beers, cumulative %: 100.00%\n"
     ]
    }
   ],
   "source": [
    "# -------------------------\n",
    "# Keep only the first 9 clusters (0 through 8)\n",
    "# -------------------------\n",
    "clusters_to_keep = list(range(9))\n",
    "beer_texts = beer_texts[beer_texts[\"cluster\"].isin(clusters_to_keep)]\n",
    "\n",
    "# IMPORTANT: Remove unused categories after filtering\n",
    "beer_texts[\"cluster\"] = beer_texts[\"cluster\"].cat.remove_unused_categories()\n",
    "\n",
    "# Verify distribution again after filtering\n",
    "print(\"\\nDistribution of beers by cluster after filtering (0-8):\")\n",
    "cluster_counts_filtered = beer_texts[\"cluster\"].value_counts().sort_index()\n",
    "total_beers_filtered = cluster_counts_filtered.sum()\n",
    "cumulative = 0\n",
    "for cl, count in cluster_counts_filtered.items():\n",
    "    cumulative += count\n",
    "    cum_pct = (cumulative / total_beers_filtered) * 100\n",
    "    print(f\"Cluster {cl}: {count} beers, cumulative %: {cum_pct:.2f}%\")"
   ]
  },
  {
   "cell_type": "markdown",
   "metadata": {},
   "source": [
    "#### Text cleaning\n",
    "\n",
    "Now that we have the joined each raw review for each beer. We now need to clean that text. In order to do this, it is important to keep in mind that our goal is to cluster the beer reviews. Therefore, there will be many words that will render useless. We filtered the most meaningful words in `Extract_feats_from_reviews_Guillen.ipynb`. Essentially, we did basic text cleaning (removed stopwords, lemmatized), then, created a TF-IDF matrix, looked at the 1000 most meaningful words and then picked the words that are used to describe beer's aroma, flavour taste and general sentiment."
   ]
  },
  {
   "cell_type": "code",
   "execution_count": 7,
   "metadata": {},
   "outputs": [
    {
     "data": {
      "application/vnd.jupyter.widget-view+json": {
       "model_id": "fda05660e96042b9b78bf2345a6df4b3",
       "version_major": 2,
       "version_minor": 0
      },
      "text/plain": [
       "Pandas Apply:   0%|          | 0/131061 [00:00<?, ?it/s]"
      ]
     },
     "metadata": {},
     "output_type": "display_data"
    }
   ],
   "source": [
    "# to see how I obtained this beer lexicon, check out Extract_feats_from_reviews_Guillen.ipynb --- EXPLAIN\n",
    "beer_lexicon = {\n",
    "    'beer', 'ale', 'lager', 'stout', 'porter', 'pilsner', 'ipa', 'brewer', \n",
    " 'brewery', 'brewing', 'draft', 'cask', 'bottle', 'glass', 'pour', 'tap','head', 'foam', \n",
    "    'frothy', 'bubbly', 'carbonated', 'flat', 'clarity','hazy', 'opaque', 'cloudy', 'clear', 'golden', 'amber', 'brown', 'dark', \n",
    " 'black', 'mahogany', 'ruby', 'white', 'pale', 'yellow', 'beige', 'red', \n",
    " 'floral', 'herbal', 'earthy', 'spicy', 'citrusy', 'fruity', 'sweet', \n",
    " 'sour', 'bitter', 'bitterness', 'smooth', 'rich', 'dry', 'crisp', 'creamy', \n",
    " 'sticky', 'tart', 'tangy', 'sweetness', 'malty', 'hoppy', 'aromatic', \n",
    " 'aroma', 'aftertaste', 'subtle', 'intense',\n",
    "'barley', 'malt', 'malty', 'grain', 'yeast', 'hops', 'hop', 'water', \n",
    " 'spices', 'vanilla', 'chocolate', 'caramel', 'toffee', 'coffee', 'cocoa', \n",
    " 'citrus', 'orange', 'lemon', 'grapefruit', 'pine', 'oak', 'nutty', 'raisin', \n",
    " 'plum', 'cherry', 'maple', 'banana', 'berry', 'ginger','session', 'sessionable', 'pint', 'ounce', 'ounce', 'snifter', 'chalice', \n",
    " 'pub', 'bar', 'draught', 'taste', 'drink', 'drinker', 'sip', 'gulp', \n",
    " 'quaffable','balanced', 'strong', 'bold', 'weak', 'delicate', 'refreshing', 'complex', \n",
    " 'light', 'heavy', 'moderate', 'intense', 'robust', 'unique', 'classic', \n",
    " 'distinctive', 'remarkable', 'awesome', 'excellent', 'superb', 'good', \n",
    " 'decent', 'ok', 'average', 'bad', 'boring', 'cheap', 'quality','balanced', 'strong', 'bold', 'weak', 'delicate', 'refreshing', 'complex', \n",
    " 'light', 'heavy', 'moderate', 'intense', 'robust', 'unique', 'classic', \n",
    " 'distinctive', 'remarkable', 'awesome', 'excellent', 'superb', 'good', \n",
    " 'decent', 'ok', 'average', 'bad', 'boring', 'cheap', 'aged', 'vintage', 'cellar', 'oak', 'barrel', 'reserve', 'craft', 'microbrewery', 'homebrew', 'regional', 'seasonal', 'festive', \n",
    " 'holiday', 'celebration', 'festival', 'special'}\n",
    "\n",
    "\n",
    "# for a review just keep the words that are in the beer lexicon\n",
    "def clean_text_lexicon(text):\n",
    "    text = text.lower()\n",
    "    cleaned_text = [word for word in text.split() if word in beer_lexicon]\n",
    "    return \" \".join(cleaned_text)\n",
    "\n",
    "# Parallel cleaning\n",
    "beer_texts[\"clean_text\"] = beer_texts[\"text\"].swifter.apply(clean_text_lexicon)"
   ]
  },
  {
   "cell_type": "code",
   "execution_count": 10,
   "metadata": {},
   "outputs": [],
   "source": [
    "# -------------------------\n",
    "# TF-IDF Vectorization\n",
    "# -------------------------\n",
    "vectorizer = TfidfVectorizer(\n",
    "    #stop_words=\"english\",\n",
    "    max_features=1000,\n",
    "    ngram_range=(1, 2),\n",
    "    min_df=5,\n",
    "    max_df=0.5\n",
    ")\n",
    "\n",
    "X = vectorizer.fit_transform(beer_texts[\"clean_text\"])"
   ]
  },
  {
   "cell_type": "markdown",
   "metadata": {},
   "source": [
    "#### PCA\n",
    "We now use PCA on the TF-IDF matrix."
   ]
  },
  {
   "cell_type": "code",
   "execution_count": 11,
   "metadata": {},
   "outputs": [],
   "source": [
    "# -------------------------\n",
    "# PCA via TruncatedSVD (for sparse data)\n",
    "# -------------------------\n",
    "n_components = 5\n",
    "svd = TruncatedSVD(n_components=n_components, random_state=42)\n",
    "X_pca = svd.fit_transform(X)\n",
    "\n",
    "# Attach PCA components back to DataFrame\n",
    "for i in range(n_components):\n",
    "    beer_texts[f\"PC{i+1}\"] = X_pca[:, i]"
   ]
  },
  {
   "cell_type": "code",
   "execution_count": 12,
   "metadata": {},
   "outputs": [
    {
     "name": "stdout",
     "output_type": "stream",
     "text": [
      "ANOVA for PC1: F=3539.36, p=0.000e+00\n",
      "ANOVA for PC2: F=36039.89, p=0.000e+00\n",
      "ANOVA for PC3: F=17123.04, p=0.000e+00\n",
      "ANOVA for PC4: F=12789.66, p=0.000e+00\n",
      "ANOVA for PC5: F=9700.34, p=0.000e+00\n",
      "\n",
      "Explained variance ratio per PC: [0.02606433 0.04648093 0.02035852 0.01788208 0.01496105]\n",
      "Cumulative explained variance: [0.02606433 0.07254527 0.09290379 0.11078586 0.12574692]\n"
     ]
    }
   ],
   "source": [
    "from scipy.stats import f_oneway\n",
    "\n",
    "# -------------------------\n",
    "# ANOVA to check differences across clusters for each PC\n",
    "# -------------------------\n",
    "for i in range(n_components):\n",
    "    pc_col = f\"PC{i+1}\"\n",
    "    # Ensure no empty groups:\n",
    "    groups = [group[pc_col].values for _, group in beer_texts.groupby(\"cluster\")]\n",
    "    # ANOVA requires that each group has data\n",
    "    if all(len(g) > 0 for g in groups):\n",
    "        stat, p = f_oneway(*groups)\n",
    "        print(f\"ANOVA for {pc_col}: F={stat:.2f}, p={p:.3e}\")\n",
    "    else:\n",
    "        print(f\"ANOVA for {pc_col}: Unable to compute (empty group).\")\n",
    "\n",
    "# Print explained variance ratios\n",
    "print(\"\\nExplained variance ratio per PC:\", svd.explained_variance_ratio_)\n",
    "print(\"Cumulative explained variance:\", np.cumsum(svd.explained_variance_ratio_))"
   ]
  },
  {
   "cell_type": "code",
   "execution_count": 13,
   "metadata": {},
   "outputs": [
    {
     "name": "stdout",
     "output_type": "stream",
     "text": [
      "\n",
      "Principal Component 1 Interpretation\n",
      "Top positively contributing terms: ['sweet' 'dark' 'hop' 'hops' 'aroma' 'brown' 'citrus' 'caramel' 'bottle'\n",
      " 'orange' 'bitter' 'pale' 'bitterness' 'golden' 'dry' 'amber' 'chocolate'\n",
      " 'clear' 'white head' 'decent']\n",
      "Top negatively contributing terms: ['stout black' 'dry bottle' 'rich chocolate' 'good coffee'\n",
      " 'coffee bitterness' 'vanilla beer' 'ipa bottle' 'bitterness dark'\n",
      " 'vanilla dark' 'sip beer' 'taste complex' 'strong coffee'\n",
      " 'chocolate black' 'chocolate sweetness' 'smooth bottle' 'drink drink'\n",
      " 'pint black' 'coffee stout' 'coffee smooth' 'coffee vanilla']\n",
      "\n",
      "Principal Component 2 Interpretation\n",
      "Top positively contributing terms: ['dark' 'chocolate' 'coffee' 'brown' 'black' 'stout' 'dark brown' 'barrel'\n",
      " 'vanilla' 'dark chocolate' 'porter' 'cocoa' 'brown head' 'rich'\n",
      " 'dark dark' 'oak' 'black head' 'creamy' 'beer dark' 'aged']\n",
      "Top negatively contributing terms: ['golden white' 'yeast' 'amber' 'hoppy' 'crisp' 'clear' 'pine' 'lemon'\n",
      " 'grapefruit' 'floral' 'white head' 'hazy' 'ipa' 'yellow' 'hops' 'orange'\n",
      " 'golden' 'pale' 'hop' 'citrus']\n",
      "\n",
      "Principal Component 3 Interpretation\n",
      "Top positively contributing terms: ['sour' 'tart' 'yeast' 'yellow' 'barrel' 'oak' 'lemon' 'bottle' 'sweet'\n",
      " 'golden' 'cherry' 'banana' 'hazy' 'white head' 'pale' 'red' 'refreshing'\n",
      " 'yellow white' 'aged' 'fruity']\n",
      "Top negatively contributing terms: ['malt hop' 'hop hop' 'citrus hop' 'caramel malt' 'hop bitterness'\n",
      " 'floral' 'amber' 'black' 'chocolate' 'hoppy' 'bitterness' 'caramel'\n",
      " 'grapefruit' 'bitter' 'coffee' 'citrus' 'pine' 'ipa' 'hops' 'hop']\n",
      "\n",
      "Principal Component 4 Interpretation\n",
      "Top positively contributing terms: ['coffee' 'black' 'chocolate' 'citrus' 'stout' 'yellow' 'lemon' 'pale'\n",
      " 'golden' 'orange' 'hazy' 'yellow white' 'tart' 'ipa' 'grapefruit' 'sour'\n",
      " 'tap' 'coffee coffee' 'dark chocolate' 'dry']\n",
      "Top negatively contributing terms: ['ruby' 'sweet malt' 'dark brown' 'brown ale' 'hops' 'amber head' 'clear'\n",
      " 'nutty' 'dark amber' 'sweet caramel' 'caramel malt' 'dark' 'ale' 'toffee'\n",
      " 'malty' 'red' 'sweet' 'amber' 'brown' 'caramel']\n",
      "\n",
      "Principal Component 5 Interpretation\n",
      "Top positively contributing terms: ['sour' 'orange' 'citrus' 'tart' 'ipa' 'barrel' 'grapefruit' 'pine' 'oak'\n",
      " 'red' 'hazy' 'cherry' 'aged' 'dark' 'vanilla' 'orange white'\n",
      " 'barrel aged' 'hazy orange' 'caramel' 'sour sour']\n",
      "Top negatively contributing terms: ['pint' 'aroma' 'bad' 'white head' 'crisp' 'yellow white' 'golden white'\n",
      " 'clear golden' 'average' 'decent' 'malty' 'grain' 'pilsner' 'sweet'\n",
      " 'yellow' 'coffee' 'clear' 'golden' 'lager' 'pale']\n"
     ]
    }
   ],
   "source": [
    "# -------------------------\n",
    "# Inspecting Top Terms for Each PC\n",
    "# -------------------------\n",
    "terms = np.array(vectorizer.get_feature_names_out())\n",
    "\n",
    "for i in range(n_components):\n",
    "    comp = svd.components_[i]\n",
    "    sorted_idx = np.argsort(comp)[::-1]\n",
    "    top_positive_terms = terms[sorted_idx[:20]]\n",
    "    top_negative_terms = terms[sorted_idx[-20:]]\n",
    "    print(f\"\\nPrincipal Component {i+1} Interpretation\")\n",
    "    print(\"Top positively contributing terms:\", top_positive_terms)\n",
    "    print(\"Top negatively contributing terms:\", top_negative_terms)"
   ]
  },
  {
   "cell_type": "markdown",
   "metadata": {},
   "source": [
    "#### Cluster Means for Each PC\n",
    "\n",
    "We now compute the mean of each cluster based on the PCA we previously did. This will be helpful later in order to tell user to which cluster they belong to."
   ]
  },
  {
   "cell_type": "code",
   "execution_count": 14,
   "metadata": {},
   "outputs": [
    {
     "name": "stdout",
     "output_type": "stream",
     "text": [
      "\n",
      "Mean principal component scores by cluster (0-8):\n",
      "              PC1       PC2       PC3       PC4       PC5\n",
      "cluster                                                  \n",
      "0.0      0.278906 -0.115818  0.033135  0.020217 -0.115057\n",
      "1.0      0.282124  0.239007  0.072455 -0.014530  0.073657\n",
      "2.0      0.421743 -0.193342 -0.138683  0.029827  0.085229\n",
      "3.0      0.303461  0.332562 -0.055962  0.120228 -0.026706\n",
      "4.0      0.288693 -0.108379  0.106818  0.064116 -0.007110\n",
      "5.0      0.324900  0.087655  0.007980 -0.150125 -0.006270\n",
      "6.0      0.184126 -0.042489 -0.017751  0.014463  0.009336\n",
      "7.0      0.237475 -0.014921  0.246638  0.036059  0.140997\n",
      "8.0      0.273427 -0.057834  0.066632 -0.020507 -0.054031\n"
     ]
    }
   ],
   "source": [
    "cluster_means = beer_texts.groupby(\"cluster\")[[f\"PC{i+1}\" for i in range(n_components)]].mean()\n",
    "print(\"\\nMean principal component scores by cluster (0-8):\")\n",
    "print(cluster_means)"
   ]
  },
  {
   "cell_type": "markdown",
   "metadata": {},
   "source": [
    "## Principal Component Interpretations and Questions\n",
    "\n",
    "## **Principal Component 1: Balanced Beers vs. Rich and Complex Beers**\n",
    "- **Top positively contributing terms**: malt, sweet, hop, citrus, caramel, bitterness, amber, golden, white head.\n",
    "- **Top negatively contributing terms**: coffee stout, chocolate sweetness, rich chocolate, coffee black, smooth bottle.\n",
    "\n",
    "### **Interpretation**:  \n",
    "This PC contrasts **balanced beers with malt, citrus, and hop-forward flavors** with **rich, complex beers** that emphasize chocolate, coffee, and smoothness (e.g., stouts and porters).\n",
    "\n",
    "### **Question**:  \n",
    "*\"Do you prefer balanced beers with malt, citrus, and hop-forward flavors, or rich, complex beers with chocolate and coffee notes?\"*\n",
    "\n",
    "---\n",
    "\n",
    "## **Principal Component 2: Dark, Roasted Beers vs. Light, Refreshing Beers**\n",
    "- **Top positively contributing terms**: dark, chocolate, coffee, vanilla, barrel, stout, porter, rich, aged.\n",
    "- **Top negatively contributing terms**: golden, crisp, grapefruit, hazy, floral, citrus, pale, hop, white.\n",
    "\n",
    "### **Interpretation**:  \n",
    "This PC contrasts **dark, roasted beers with rich flavors like chocolate and coffee** with **light and refreshing beers with crisp and citrus-forward profiles**.\n",
    "\n",
    "### **Question**:  \n",
    "*\"Do you enjoy dark beers with roasted flavors like chocolate and coffee, or light, refreshing beers with crisp citrus notes?\"*\n",
    "\n",
    "---\n",
    "\n",
    "## **Principal Component 3: Sour and Tart Beers vs. Hop-Forward Beers**\n",
    "- **Top positively contributing terms**: sour, tart, yeast, banana, oak, golden, refreshing, sweet.\n",
    "- **Top negatively contributing terms**: hops, pine, caramel malt, bitterness, amber, malt, citrus, hoppy.\n",
    "\n",
    "### **Interpretation**:  \n",
    "This PC contrasts **sour and tart beers** (e.g., Berliner Weisse, lambics) with **hop-forward beers** (e.g., IPAs and pale ales) featuring pine, citrus, and bitterness.\n",
    "\n",
    "### **Question**:  \n",
    "*\"Do you prefer sour and tart beers with yeast-forward or fruity flavors, or hop-forward beers with pine, citrus, and bitterness?\"*\n",
    "\n",
    "---\n",
    "\n",
    "## **Principal Component 4: Coffee and Chocolate Beers vs. Sweet and Malty Beers**\n",
    "- **Top positively contributing terms**: coffee, chocolate, citrus, stout, grapefruit, bitter, pale, hop, hazy.\n",
    "- **Top negatively contributing terms**: sweet caramel, caramel malt, toffee, oak, amber, red, malty, brown, sour.\n",
    "\n",
    "### **Interpretation**:  \n",
    "This PC contrasts **coffee and chocolate-forward beers** (e.g., stouts and porters) with **sweet, malty beers** (e.g., amber ales, red ales, or barrel-aged styles).\n",
    "\n",
    "### **Question**:  \n",
    "*\"Do you prefer beers with coffee and chocolate flavors, or sweet, malty beers with caramel and toffee notes?\"*\n",
    "\n",
    "---\n",
    "\n",
    "## **Principal Component 5: Tart and Fruity Beers vs. Light and Crisp Beers**\n",
    "- **Top positively contributing terms**: orange, citrus, sour, tart, barrel, grapefruit, pine, oak, red, cherry.\n",
    "- **Top negatively contributing terms**: golden white, malty, sweet, pale, lager, pilsner, grain, taste.\n",
    "\n",
    "### **Interpretation**:  \n",
    "This PC contrasts **tart and fruity beers** (e.g., barrel-aged sours, lambics) with **light and crisp beers** (e.g., lagers, pilsners) with clean and simple flavor profiles.\n",
    "\n",
    "### **Question**:  \n",
    "*\"Do you prefer tart and fruity beers with barrel-aged or citrus flavors, or light, crisp beers like lagers and pilsners?\"*\n",
    "\n",
    "---\n",
    "\n",
    "## Summary\n",
    "### **Questions for User Preferences**\n",
    "1. **PC1**: Balanced beers vs. rich and complex beers.\n",
    "2. **PC2**: Dark, roasted beers vs. light, refreshing beers.\n",
    "3. **PC3**: Sour and tart beers vs. hop-forward beers.\n",
    "4. **PC4**: Coffee and chocolate beers vs. sweet and malty beers.\n",
    "5. **PC5**: Tart and fruity beers vs. light and crisp beers.\n",
    "\n",
    "Each question guides the user toward identifying their preferred cluster by distinguishing their preferences based on the most significant components of the data. Let me know if you’d like further refinements or implementation details!\n"
   ]
  },
  {
   "cell_type": "markdown",
   "metadata": {},
   "source": [
    "_____________________________________________________________________________\n",
    "\n",
    "### 2D Visualization of each cluster and of the User's Preference\n",
    "\n",
    "We can reduce even more the dimension of the cluster from 5D to 2D in order to visualize the clusters and we can further understand which ones are similar and which one stand out in their tastes and characteristics.\n",
    "\n",
    "Furthermore, we can also see after each user's answer to which cluster this leads him. "
   ]
  },
  {
   "cell_type": "code",
   "execution_count": 15,
   "metadata": {},
   "outputs": [
    {
     "name": "stderr",
     "output_type": "stream",
     "text": [
      "/var/folders/jx/56g55chd1yl4skdk9783vmz00000gn/T/ipykernel_12173/2669853829.py:47: UserWarning: No data for colormapping provided via 'c'. Parameters 'cmap' will be ignored\n",
      "  plt.scatter(x, y, label=cluster_names[idx], s=100, cmap='tab10')\n"
     ]
    },
    {
     "data": {
      "image/png": "[encoded data removed]",
      "text/plain": [
       "<Figure size 1000x800 with 1 Axes>"
      ]
     },
     "metadata": {},
     "output_type": "display_data"
    }
   ],
   "source": [
    "import numpy as np\n",
    "import matplotlib.pyplot as plt\n",
    "from sklearn.decomposition import PCA\n",
    "from sklearn.preprocessing import normalize\n",
    "\n",
    "# Simulated cluster means and user answers\n",
    "cluster_means_array = cluster_means.values\n",
    "user_answers = np.array([1., -1., -1, 0., 0.]) # example of answers for someone who likes lagers\n",
    "\n",
    "user_answers_path = np.diag(user_answers)\n",
    "for i in range(1, user_answers_path.shape[0]):\n",
    "    for j in range(i):\n",
    "        user_answers_path[i, j] = user_answers_path[j, j]\n",
    "\n",
    "# Dictionary for cluster numbers and their names\n",
    "cluster_names = {\n",
    "    0: \"Light and Refreshing Lagers\",\n",
    "    1: \"Dark and Strong Ales\",\n",
    "    2: \"Hop-Forward IPAs\",\n",
    "    3: \"Rich and Roasty Stouts\",\n",
    "    4: \"Belgian and Wheat Styles\",\n",
    "    5: \"Malty and Balanced Ales\",\n",
    "    6: \"Citrusy and Balanced IPAs\",\n",
    "    7: \"Sour and Experimental Beers\",\n",
    "    8: \"Specialty and Niche Styles\"\n",
    "}\n",
    "\n",
    "\n",
    "#Normalize both\n",
    "normalized_cluster_means = normalize(cluster_means, norm='l2', axis=1)\n",
    "normalized_user_answers = normalize(user_answers.reshape(1,-1), norm='l2', axis=1)\n",
    "normalized_user_answers_path = normalize(user_answers_path, norm='l2', axis=1)\n",
    "\n",
    "# Apply PCA on the normalized cluster means\n",
    "pca = PCA(n_components=2)\n",
    "pca_cluster_means = pca.fit_transform(normalized_cluster_means)\n",
    "pca_user_answers_path = pca.transform(normalized_user_answers_path)\n",
    "\n",
    "# Transform user answers using the same PCA\n",
    "pca_user_positions = pca.transform(normalized_user_answers)\n",
    "\n",
    "# Plotting\n",
    "plt.figure(figsize=(10, 8))\n",
    "\n",
    "# Plot PCA result for clusters with explicit labeling\n",
    "for idx, (x, y) in enumerate(pca_cluster_means):\n",
    "    plt.scatter(x, y, label=cluster_names[idx], s=100, cmap='tab10')\n",
    "\n",
    "\n",
    "# Plot user journey\n",
    "plt.plot(\n",
    "    pca_user_answers_path[:, 0],\n",
    "    pca_user_answers_path[:, 1],\n",
    "    marker='o',\n",
    "    color='blue',\n",
    "    label='User Journey'\n",
    ")\n",
    "\n",
    "# Annotate user journey points\n",
    "for i, (x, y) in enumerate(pca_user_answers_path):\n",
    "    plt.text(x, y, f'Q{i+1}', fontsize=10, color='blue')\n",
    "\n",
    "\n",
    "# Plot the user answers on the same plot\n",
    "plt.scatter(\n",
    "    pca_user_positions[0, 0],\n",
    "    pca_user_positions[0, 1],\n",
    "    color='red',\n",
    "    s=150,\n",
    "    label=\"User Position\",\n",
    "    marker='*',\n",
    "    zorder=5\n",
    ")\n",
    "\n",
    "# Labels and legend\n",
    "plt.title(\"PCA Cluster Visualization with User Journey\")\n",
    "plt.xlabel(\"PCA Component 1\")\n",
    "plt.ylabel(\"PCA Component 2\")\n",
    "plt.legend()\n",
    "plt.show()"
   ]
  },
  {
   "cell_type": "code",
   "execution_count": 16,
   "metadata": {},
   "outputs": [
    {
     "name": "stdout",
     "output_type": "stream",
     "text": [
      "Nearest cluster to user position: Hop-Forward IPAs\n"
     ]
    }
   ],
   "source": [
    "# method to get the nearest cluster to the user position\n",
    "def get_nearest_cluster(user_position, cluster_means):\n",
    "    distances = np.linalg.norm(cluster_means - user_position, axis=1)\n",
    "    nearest_cluster = np.argmin(distances)\n",
    "    print(f\"Nearest cluster to user position: {cluster_names[nearest_cluster]}\")\n",
    "    return nearest_cluster\n",
    "\n",
    "# Get the nearest cluster to the user position\n",
    "nearest_cluster = get_nearest_cluster(user_answers, cluster_means_array) # this definitely makes sense when looking at the plot"
   ]
  },
  {
   "cell_type": "markdown",
   "metadata": {},
   "source": [
    "Test of answers of a user that would fit in a particular cluster"
   ]
  },
  {
   "cell_type": "code",
   "execution_count": 17,
   "metadata": {},
   "outputs": [
    {
     "name": "stdout",
     "output_type": "stream",
     "text": [
      "Nearest cluster to user position: Light and Refreshing Lagers\n",
      "Nearest cluster to user position: Dark and Strong Ales\n",
      "Nearest cluster to user position: Hop-Forward IPAs\n",
      "Nearest cluster to user position: Rich and Roasty Stouts\n",
      "Nearest cluster to user position: Belgian and Wheat Styles\n",
      "Nearest cluster to user position: Dark and Strong Ales\n",
      "Nearest cluster to user position: Hop-Forward IPAs\n",
      "Nearest cluster to user position: Sour and Experimental Beers\n",
      "Nearest cluster to user position: Dark and Strong Ales\n"
     ]
    }
   ],
   "source": [
    "# User answers for each cluster with brief explanations and cluster assignment code\n",
    "# 1. \"Do you prefer balanced beers with malt, citrus, and hop-forward flavors, or rich, complex beers with chocolate and coffee notes?\"\n",
    "# 2. \"Do you enjoy dark beers with roasted flavors like chocolate and coffee, or light, refreshing beers with crisp citrus notes?\"\n",
    "# 3. \"Do you prefer sour and tart beers with yeast-forward or fruity flavors, or hop-forward beers with pine, citrus, and bitterness?\"\n",
    "# 4. \"Do you prefer beers with coffee and chocolate flavors, or sweet, malty beers with caramel and toffee notes?\"\n",
    "# 5. \"Do you prefer tart and fruity beers with barrel-aged or citrus flavors, or light, crisp beers like lagers and pilsners?\"\n",
    "\n",
    "\n",
    "\n",
    "user_answers = np.array([0.5, -1., 0., 0., -1.])  # Light and Refreshing Lagers: Prefers light, crisp, balanced beers with no strong flavors.\n",
    "nearest_cluster = get_nearest_cluster(user_answers, cluster_means_array)\n",
    "\n",
    "user_answers = np.array([0.5, 0.5, 0., 0., 0.5])  # Dark and Strong Ales: Prefers rich, dark beers with bold, roasted flavors and slight hop-forward notes.\n",
    "nearest_cluster = get_nearest_cluster(user_answers, cluster_means_array)\n",
    "\n",
    "user_answers = np.array([1, -0.5, -1., -0.5, -1.])  # Hop-Forward IPAs: Strong preference for hop-forward beers with pine and citrus notes; dislikes dark beers.\n",
    "nearest_cluster = get_nearest_cluster(user_answers, cluster_means_array)\n",
    "\n",
    "user_answers = np.array([1., 1., -0.1, 1., -0.2])  # Rich and Roasty Stouts: Prefers complex, dark beers with coffee and chocolate flavors.\n",
    "nearest_cluster = get_nearest_cluster(user_answers, cluster_means_array)\n",
    "\n",
    "user_answers = np.array([1., -0.5, 1., -0.5, -0.5])  # Belgian and Wheat Styles: Likes dark beers with some fruity and yeast-forward notes, avoiding hop-forward flavors.\n",
    "nearest_cluster = get_nearest_cluster(user_answers, cluster_means_array)\n",
    "\n",
    "user_answers = np.array([1, 0.5, 0., 0., 0.5])  # Malty and Balanced Ales: Prefers beers with malt-forward, balanced flavors; neutral on hops and sweetness.\n",
    "nearest_cluster = get_nearest_cluster(user_answers, cluster_means_array)\n",
    "\n",
    "user_answers = np.array([1., -1., -1, 0., 0.])  # Citrusy and Balanced IPAs: Enjoys hop-forward, citrusy beers with slight malty and fruity notes.\n",
    "nearest_cluster = get_nearest_cluster(user_answers, cluster_means_array)\n",
    "\n",
    "user_answers = np.array([-0.5, -0.5, 1., -0.5, 1.])  # Sour and Experimental Beers: Strong preference for tart, fruity beers with experimental flavors; dislikes hop-forward or roasted beers.\n",
    "nearest_cluster = get_nearest_cluster(user_answers, cluster_means_array)\n",
    "\n",
    "user_answers = np.array([0., 0.5, 0.5, 0., 0.])  # Specialty and Niche Styles: Neutral preference for complex, unique beers with a balance of hops and malt.\n",
    "nearest_cluster = get_nearest_cluster(user_answers, cluster_means_array)"
   ]
  }
 ],
 "metadata": {
  "kernelspec": {
   "display_name": "ML",
   "language": "python",
   "name": "python3"
  },
  "language_info": {
   "codemirror_mode": {
    "name": "ipython",
    "version": 3
   },
   "file_extension": ".py",
   "mimetype": "text/x-python",
   "name": "python",
   "nbconvert_exporter": "python",
   "pygments_lexer": "ipython3",
   "version": "3.11.10"
  }
 },
 "nbformat": 4,
 "nbformat_minor": 2
}
