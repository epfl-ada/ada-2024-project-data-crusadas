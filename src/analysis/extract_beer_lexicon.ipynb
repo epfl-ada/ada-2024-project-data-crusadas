{
 "cells": [
  {
   "cell_type": "code",
   "execution_count": null,
   "id": "e55fe054-68ad-41c2-8ceb-dbefee508852",
   "metadata": {},
   "outputs": [],
   "source": [
    "import pandas as pd\n",
    "import numpy as np\n",
    "import gzip\n",
    "\n",
    "# Data processing and manipulation\n",
    "import re\n",
    "from multiprocessing import Pool\n",
    "from tqdm import tqdm\n",
    "\n",
    "from sklearn.feature_extraction.text import TfidfVectorizer\n",
    "\n",
    "# NLTK for natural language processing\n",
    "import nltk\n",
    "from nltk.corpus import stopwords\n",
    "from nltk.tokenize import word_tokenize\n",
    "from nltk.stem import WordNetLemmatizer\n",
    "from nltk import pos_tag\n",
    "from nltk.sentiment import SentimentIntensityAnalyzer\n",
    "\n",
    "# Download necessary NLTK data\n",
    "nltk.download('punkt')\n",
    "nltk.download('stopwords')\n",
    "nltk.download('wordnet')\n",
    "nltk.download('averaged_perceptron_tagger')\n",
    "nltk.download('vader_lexicon')\n",
    "\n",
    "beers = pd.read_csv('data/beers.csv')\n",
    "breweries = pd.read_csv('data/breweries.csv')\n",
    "users = pd.read_csv('data/users.csv')"
   ]
  },
  {
   "cell_type": "markdown",
   "id": "9b497676-8927-4112-b587-2e2f460f9a31",
   "metadata": {},
   "source": [
    "### Extracting and processing the reviews\n",
    "\n",
    "We extract all the tokens of 1 million reviews in order to get a good sense of the reviews vocabulary and of the tokens distributions.\n",
    "\n",
    "Here the processing is the following :\n",
    "- We lower the text\n",
    "- Remove the punctation\n",
    "- Apply lemmatization\n",
    "- Keep only nouns and adjectives, this step is very useful as these type of words are the ones that describe in the most effective manner a beer."
   ]
  },
  {
   "cell_type": "code",
   "execution_count": null,
   "id": "db26575a-9496-43e9-96b8-a4f406965e8b",
   "metadata": {},
   "outputs": [],
   "source": [
    "from process_reviews import get_tokens\n",
    "\n",
    "# Processes the tokens, using stopwords, removing punctuation, lemmatization and only keeping nouns and adjectives\n",
    "all_tokens = get_tokens('data/reviews.txt.gz', review_limit=10000000)"
   ]
  },
  {
   "cell_type": "markdown",
   "id": "30ec3c6e-d192-4c46-b3ad-ae3377c57a29",
   "metadata": {},
   "source": [
    "### Vectorizing with TF-IDF and getting the best features out\n",
    "\n",
    "In a straightforward way, we create a TF-IDF matrix for each tokens in the reviews (With the text pre-processing mentionned above). We then retain the *1000* most frequent word."
   ]
  },
  {
   "cell_type": "code",
   "execution_count": null,
   "id": "cef9fc68-d0cf-4109-9cf4-8f13a764ffe1",
   "metadata": {},
   "outputs": [],
   "source": [
    "# Create a TF-IDF Vectorizer\n",
    "vectorizer = TfidfVectorizer(max_features=1000, min_df = 0.005)  # Limit to top 1000 terms, showing terms that appears in at least 0.5% of the docs\n",
    "X = vectorizer.fit_transform([\" \".join(token) for token in all_tokens])  # Transform reviews to TF-IDF matrix"
   ]
  },
  {
   "cell_type": "code",
   "execution_count": 28,
   "id": "f6bbb03f-1b07-4402-8723-e909be978991",
   "metadata": {},
   "outputs": [
    {
     "name": "stdout",
     "output_type": "stream",
     "text": [
      "Some Feature Names :  ['able' 'bubble' 'day' 'finish' 'ice' 'middle' 'place' 'semi' 'sweetish'\n",
      " 'wet']\n"
     ]
    }
   ],
   "source": [
    "top_feats = set(vectorizer.get_feature_names_out())\n",
    "print('Some Feature Names : ', vectorizer.get_feature_names_out()[::100])"
   ]
  },
  {
   "cell_type": "markdown",
   "id": "7c83ebb1",
   "metadata": {},
   "source": [
    "As we can see from the output above, when we look at random words from the 1000 words, we see that some of them are not very useful in describing a beer. They might appear but are not what we look for when trying to describe a beer."
   ]
  },
  {
   "cell_type": "markdown",
   "id": "9d05f6ff-c425-48bc-ac25-7c8a2d0bac73",
   "metadata": {},
   "source": [
    "### From the top 1000 features of our TF-IDF matrix, we manually select the ones that have something to do with beer\n",
    "\n",
    "The strategy is to look for the words that actually describe a beer. From the 1000 most common, we pick the one that are beer-related. This lexicon will be our new one for describing beer and will further used for filtering the reviews."
   ]
  },
  {
   "cell_type": "code",
   "execution_count": null,
   "id": "68d86582-9dd4-432b-a72a-d24a66257ea2",
   "metadata": {},
   "outputs": [],
   "source": [
    "# selected from the 1000 word vocabulary of the TF-IDF matrix\n",
    "beer_lexicon = {\n",
    "    'beer', 'ale', 'lager', 'stout', 'porter', 'pilsner', 'ipa', 'brewer', \n",
    " 'brewery', 'brewing', 'draft', 'cask', 'bottle', 'glass', 'pour', 'tap','head', 'foam', \n",
    "    'frothy', 'bubbly', 'carbonated', 'flat', 'clarity','hazy', 'opaque', 'cloudy', 'clear', 'golden', 'amber', 'brown', 'dark', \n",
    " 'black', 'mahogany', 'ruby', 'white', 'pale', 'yellow', 'beige', 'red', \n",
    " 'floral', 'herbal', 'earthy', 'spicy', 'citrusy', 'fruity', 'sweet', \n",
    " 'sour', 'bitter', 'bitterness', 'smooth', 'rich', 'dry', 'crisp', 'creamy', \n",
    " 'sticky', 'tart', 'tangy', 'sweetness', 'malty', 'hoppy', 'aromatic', \n",
    " 'aroma', 'aftertaste', 'subtle', 'intense',\n",
    "'barley', 'malt', 'malty', 'grain', 'yeast', 'hops', 'hop', 'water', \n",
    " 'spices', 'vanilla', 'chocolate', 'caramel', 'toffee', 'coffee', 'cocoa', \n",
    " 'citrus', 'orange', 'lemon', 'grapefruit', 'pine', 'oak', 'nutty', 'raisin', \n",
    " 'plum', 'cherry', 'maple', 'banana', 'berry', 'ginger','session', 'sessionable', 'pint', 'ounce', 'ounce', 'snifter', 'chalice', \n",
    " 'pub', 'bar', 'draught', 'taste', 'drink', 'drinker', 'sip', 'gulp', \n",
    " 'quaffable','balanced', 'strong', 'bold', 'weak', 'delicate', 'refreshing', 'complex', \n",
    " 'light', 'heavy', 'moderate', 'intense', 'robust', 'unique', 'classic', \n",
    " 'distinctive', 'remarkable', 'awesome', 'excellent', 'superb', 'good', \n",
    " 'decent', 'ok', 'average', 'bad', 'boring', 'cheap', 'quality','balanced', 'strong', 'bold', 'weak', 'delicate', 'refreshing', 'complex', \n",
    " 'light', 'heavy', 'moderate', 'intense', 'robust', 'unique', 'classic', \n",
    " 'distinctive', 'remarkable', 'awesome', 'excellent', 'superb', 'good', \n",
    " 'decent', 'ok', 'average', 'bad', 'boring', 'cheap', 'aged', 'vintage', 'cellar', 'oak', 'barrel', 'reserve', 'craft', 'microbrewery', 'homebrew', 'regional', 'seasonal', 'festive', \n",
    " 'holiday', 'celebration', 'festival', 'special'}"
   ]
  },
  {
   "cell_type": "markdown",
   "id": "8c32585d-e81c-422a-8c90-321ec2d0cbe6",
   "metadata": {},
   "source": [
    "### We filter the beer-related tokens, getting rid of the rest\n",
    "Every review is left with beer-related tokens whose vocabulary is the beer_lexicon"
   ]
  },
  {
   "cell_type": "code",
   "execution_count": 77,
   "id": "49a5cd1a-556d-4c05-814c-a4fe6576f926",
   "metadata": {},
   "outputs": [],
   "source": [
    "all_tokens_beer = [[word for word in sentence if word in beer_lexicon] for sentence in all_tokens]"
   ]
  },
  {
   "cell_type": "markdown",
   "id": "3e590898-c1f3-4712-961e-a9611badee35",
   "metadata": {},
   "source": [
    "### Recreating a Vectorizer (TF-IDF) focusing only on the beer lexicon\n",
    "\n",
    "With the goal of simplifying our model and reducing the noise, new TF-IDF matrix with vocabulary being beer_lexicon"
   ]
  },
  {
   "cell_type": "code",
   "execution_count": null,
   "id": "6da7c407-b43c-4a12-ac8f-3cbe92d3b495",
   "metadata": {},
   "outputs": [],
   "source": [
    "# Create a TF-IDF Vectorizer using the beer lexicon\n",
    "vectorizer_beer = TfidfVectorizer(vocabulary=beer_lexicon)\n",
    "\n",
    "# Transform the beer-related tokens to a TF-IDF matrix\n",
    "X_beer = vectorizer_beer.fit_transform([\" \".join(token) for token in all_tokens_beer])"
   ]
  },
  {
   "cell_type": "markdown",
   "id": "edb33a4a-f801-4a83-b70c-10f32273b0c5",
   "metadata": {},
   "source": [
    "### Extracting the top features\n",
    "\n",
    "These features will be added to each beer by analyzing its reviews, enriching its descriptions and ultimately enhancing the performance of our recommender system. By incorporating this new beer lexicon vocabulary, we can convey more detailed and nuanced information about each beer. This improved descriptive capability allows our recommender system to make more accurate and personalized suggestions, ensuring that users find beers that match their preferences more closely."
   ]
  },
  {
   "cell_type": "markdown",
   "id": "e22ff624",
   "metadata": {},
   "source": [
    "Example for the top 50 featues that describe a beer."
   ]
  },
  {
   "cell_type": "code",
   "execution_count": null,
   "id": "a724a5e6-ee4b-4635-8ecf-08b6d37ddaf9",
   "metadata": {},
   "outputs": [
    {
     "data": {
      "text/plain": [
       "array(['beer', 'malt', 'taste', 'hop', 'head', 'dark', 'good', 'sweet',\n",
       "       'chocolate', 'light', 'aroma', 'bottle', 'ale', 'caramel', 'glass',\n",
       "       'bitter', 'brown', 'coffee', 'black', 'white', 'bitterness',\n",
       "       'stout', 'creamy', 'malty', 'smooth', 'dry', 'sweetness', 'clear',\n",
       "       'pint', 'strong', 'fruity', 'rich', 'toffee', 'aftertaste',\n",
       "       'decent', 'citrus', 'orange', 'earthy', 'vanilla', 'floral',\n",
       "       'golden', 'pale', 'amber', 'heavy', 'hoppy', 'bad', 'drink', 'ipa',\n",
       "       'complex', 'red'], dtype=object)"
      ]
     },
     "execution_count": 91,
     "metadata": {},
     "output_type": "execute_result"
    }
   ],
   "source": [
    "features_score = np.sum(X_beer, axis=0).A1\n",
    "\n",
    "top_indices = np.argsort(features_score)[::-1][:50]  # Sort in descending order\n",
    "top_50_features = np.array(vectorizer_beer.get_feature_names_out())[top_indices]\n",
    "\n",
    "top_50_features"
   ]
  }
 ],
 "metadata": {
  "kernelspec": {
   "display_name": "Python 3 (ipykernel)",
   "language": "python",
   "name": "python3"
  },
  "language_info": {
   "codemirror_mode": {
    "name": "ipython",
    "version": 3
   },
   "file_extension": ".py",
   "mimetype": "text/x-python",
   "name": "python",
   "nbconvert_exporter": "python",
   "pygments_lexer": "ipython3",
   "version": "3.12.4"
  }
 },
 "nbformat": 4,
 "nbformat_minor": 5
}
