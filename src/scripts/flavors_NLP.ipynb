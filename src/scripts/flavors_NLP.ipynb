{
 "cells": [
  {
   "cell_type": "markdown",
   "metadata": {},
   "source": [
    "The goal of this notebook is to show the NLP process used to extract the main flavor and appearance descriptors in the different clusters. Those words are used to create the word clouds seen the main result notebook."
   ]
  },
  {
   "cell_type": "markdown",
   "metadata": {},
   "source": [
    "Note that the variables haven't been renamed. ipa_reviews correspond to cluser_reviews and non_ipa_reviews correspond to other_reviews"
   ]
  },
  {
   "cell_type": "code",
   "execution_count": 21,
   "metadata": {},
   "outputs": [],
   "source": [
    "import nltk\n",
    "from nltk.tokenize import word_tokenize\n",
    "from nltk.corpus import stopwords, wordnet\n",
    "from nltk.stem import WordNetLemmatizer\n",
    "from nltk.sentiment import SentimentIntensityAnalyzer\n",
    "from nltk.corpus import stopwords\n",
    "from nltk import pos_tag\n",
    "import pandas as pd\n",
    "import numpy as np\n",
    "import os\n",
    "import sys\n",
    "import json\n",
    "\n",
    "current_dir = os.getcwd()  # Get current working directory\n",
    "sys.path.append(os.path.abspath(os.path.join(current_dir, '..', '..')))\n",
    "from src.data.beerdata_loader import BeerDataLoader\n",
    "\n",
    "stop_words = set(stopwords.words('english'))\n",
    "lemmatizer = WordNetLemmatizer()\n"
   ]
  },
  {
   "cell_type": "markdown",
   "metadata": {},
   "source": [
    "Here are the flavor and appearance descriptors that we manually selected. They were selected after the extract_top_words methods. extract_top_words gave us the top words for both the cluster_reviews and the other_reviews. It's from those words that we picked the appearance and flavor descriptors from our knowledge on beers."
   ]
  },
  {
   "cell_type": "code",
   "execution_count": 3,
   "metadata": {},
   "outputs": [],
   "source": [
    "flavor_descriptors = [\n",
    "    'hoppy', 'bitter', 'citrus', 'pine', 'floral', 'malty', 'sweet', 'roasted', 'caramel',\n",
    "    'chocolate', 'coffee', 'fruit', 'spicy', 'herbal', 'earthy', 'toffee', 'tropical', 'yeast',\n",
    "    'banana', 'clove', 'smoke', 'oak', 'vanilla', 'nutty', 'wheat', 'grain', 'sour', 'tart', 'milk', 'coriander'\n",
    "]\n",
    "appearance_descriptors = [\n",
    "    'head', 'dark', 'brown', 'light', 'white', 'golden', 'straw', 'orange', 'yellow', 'pale', 'hazy', 'opaque', 'amber'\n",
    "]"
   ]
  },
  {
   "cell_type": "markdown",
   "metadata": {},
   "source": [
    "This function extract for both ipa_beers_reviews and in non_ipa_beers_reviews some reviews such that there is a minumum of beer reviews for each beer (so that the beer is beeing reviewed eough), we set as well a maximum number of reviews so that we have a big enough list of reviews to represent each cluster. We sample 100000 beers per cluster/other for efficiency reasons. "
   ]
  },
  {
   "cell_type": "code",
   "execution_count": 27,
   "metadata": {},
   "outputs": [],
   "source": [
    "def filter_beer_reviews(ipa_reviews_df, non_ipa_reviews_df):\n",
    "    # Set parameters\n",
    "    review_threshold = 100  # Minimum number of reviews a beer must have\n",
    "    max_reviews_per_beer = 1000  # Maximum number of reviews to process per beer\n",
    "    sample_size = 100000  # Total reviews to process per category\n",
    "\n",
    "    ipa_size = (ipa_reviews_df.shape[0])\n",
    "    if ipa_size < 100000 and ipa_size > 40000:\n",
    "        review_threshold = 10\n",
    "    elif ipa_size < 40000:\n",
    "        review_threshold = 1\n",
    "\n",
    "    # For IPA reviews\n",
    "    ipa_review_counts = ipa_reviews_df['beer_id'].value_counts()\n",
    "    ipa_beers_selected = ipa_review_counts[ipa_review_counts >= review_threshold].index.tolist()\n",
    "\n",
    "    ipa_reviews_filtered = ipa_reviews_df[ipa_reviews_df['beer_id'].isin(ipa_beers_selected)]\n",
    "    ipa_reviews_filtered = ipa_reviews_filtered.groupby('beer_id').head(max_reviews_per_beer).reset_index(drop=True)\n",
    "\n",
    "    # For Non-IPA reviews\n",
    "    non_ipa_review_counts = non_ipa_reviews_df['beer_id'].value_counts()\n",
    "    non_ipa_beers_selected = non_ipa_review_counts[non_ipa_review_counts >= review_threshold].index.tolist()\n",
    "\n",
    "    non_ipa_reviews_filtered = non_ipa_reviews_df[non_ipa_reviews_df['beer_id'].isin(non_ipa_beers_selected)]\n",
    "    non_ipa_reviews_filtered = non_ipa_reviews_filtered.groupby('beer_id').head(max_reviews_per_beer).reset_index(drop=True)\n",
    "\n",
    "    # Sample to reduce data size\n",
    "    sample_size = min(sample_size, ipa_reviews_filtered.shape[0])\n",
    "    ipa_reviews_filtered = ipa_reviews_filtered.sample(n=sample_size, random_state=42)\n",
    "    non_ipa_reviews_filtered = non_ipa_reviews_filtered.sample(n=sample_size, random_state=42)\n",
    "\n",
    "    print(\"Total number of selected IPA reviews:\", len(ipa_reviews_filtered))\n",
    "    print(\"Total number of selected Non-IPA reviews:\", len(non_ipa_reviews_filtered))\n",
    "    return ipa_reviews_filtered, non_ipa_reviews_filtered"
   ]
  },
  {
   "cell_type": "markdown",
   "metadata": {},
   "source": [
    "This function takes the text of each review, lowercase and tokenize them, thhen remove punctuation and stop words from the tokens and lemmatize them. "
   ]
  },
  {
   "cell_type": "code",
   "execution_count": 28,
   "metadata": {},
   "outputs": [],
   "source": [
    "def preprocess_text(text):\n",
    "    if not isinstance(text, str):\n",
    "        return []\n",
    "    # Lowercase\n",
    "    text = text.lower()\n",
    "    # Tokenize with preserve_line=True to avoid sent_tokenize\n",
    "    tokens = word_tokenize(text, preserve_line=True)\n",
    "    # Remove punctuation and non-alphabetic tokens\n",
    "    tokens = [word for word in tokens if word.isalpha()]\n",
    "    # Remove stop words\n",
    "    tokens = [word for word in tokens if word not in stop_words]\n",
    "    # Lemmatize\n",
    "    tokens = [lemmatizer.lemmatize(word, pos='v') for word in tokens]\n",
    "    return tokens"
   ]
  },
  {
   "cell_type": "markdown",
   "metadata": {},
   "source": [
    "Tokenize both for cluster_reviews and other_reviews and keep only non-empty tokens"
   ]
  },
  {
   "cell_type": "code",
   "execution_count": 41,
   "metadata": {},
   "outputs": [],
   "source": [
    "def tokenize(ipa_reviews_filtered, non_ipa_reviews_filtered):\n",
    "    # Apply preprocessing\n",
    "    #print(\"Preprocessing IPA reviews...\")\n",
    "    ipa_reviews_filtered['tokens'] = ipa_reviews_filtered['text'].apply(preprocess_text)\n",
    "\n",
    "    #print(\"Preprocessing Non-IPA reviews...\")\n",
    "    non_ipa_reviews_filtered['tokens'] = non_ipa_reviews_filtered['text'].apply(preprocess_text)\n",
    "\n",
    "    # Remove entries with empty tokens\n",
    "    ipa_reviews_filtered = ipa_reviews_filtered[ipa_reviews_filtered['tokens'].str.len() > 0].reset_index(drop=True)\n",
    "    non_ipa_reviews_filtered = non_ipa_reviews_filtered[non_ipa_reviews_filtered['tokens'].str.len() > 0].reset_index(drop=True)\n",
    "\n",
    "    #print(f\"Total IPA reviews after preprocessing: {len(ipa_reviews_filtered)}\")\n",
    "    #print(f\"Total Non-IPA reviews after preprocessing: {len(non_ipa_reviews_filtered)}\")\n",
    "    return ipa_reviews_filtered, non_ipa_reviews_filtered"
   ]
  },
  {
   "cell_type": "markdown",
   "metadata": {},
   "source": [
    "This function changes tokens into a lit"
   ]
  },
  {
   "cell_type": "code",
   "execution_count": 30,
   "metadata": {},
   "outputs": [],
   "source": [
    "def extract_top_words(ipa_reviews_filtered, non_ipa_reviews_filtered):\n",
    "    \n",
    "    ipa_tokens_list = ipa_reviews_filtered['tokens'].tolist()\n",
    "    non_ipa_tokens_list = non_ipa_reviews_filtered['tokens'].tolist()\n",
    "    return ipa_tokens_list, non_ipa_tokens_list"
   ]
  },
  {
   "cell_type": "markdown",
   "metadata": {},
   "source": [
    "This function, for each of the words for appearance or flavor descriptors, count the number of times this word appear in cluster_reviews and in other_reviews and output the difference. Positive means that there are more words that are in the cluster than in the other clusters for the reviews. "
   ]
  },
  {
   "cell_type": "code",
   "execution_count": 46,
   "metadata": {},
   "outputs": [],
   "source": [
    "def compute_criterium(ipa_tokens_list, non_ipa_tokens_list, descriptor):\n",
    "     \n",
    "    def count_appearance(tokens_list, flavor_list):\n",
    "        flavor_counts = dict.fromkeys(flavor_list, 0)\n",
    "        for tokens in tokens_list:\n",
    "            for token in tokens:\n",
    "                if token in flavor_list:\n",
    "                    flavor_counts[token] += 1\n",
    "        return flavor_counts\n",
    "\n",
    "    # Count flavors in IPA and Non-IPA reviews\n",
    "    ipa_appearance_counts = count_appearance(ipa_tokens_list, descriptor)\n",
    "    non_ipa_appearance_counts = count_appearance(non_ipa_tokens_list, descriptor)\n",
    "\n",
    "    # Convert to DataFrame\n",
    "    ipa_appearance_df = pd.DataFrame(list(ipa_appearance_counts.items()), columns=['Appear', 'Count_IPA'])\n",
    "    non_ipa_appearance_df = pd.DataFrame(list(non_ipa_appearance_counts.items()), columns=['Appear', 'Count_Non_IPA'])\n",
    "    comparison_df = ipa_appearance_df.merge(non_ipa_appearance_df, on='Appear')\n",
    "    comparison_df['Difference'] = comparison_df['Count_IPA'] - comparison_df['Count_Non_IPA']\n",
    "    return comparison_df"
   ]
  },
  {
   "cell_type": "markdown",
   "metadata": {},
   "source": [
    "Apply all the previous steps sequencially"
   ]
  },
  {
   "cell_type": "code",
   "execution_count": 44,
   "metadata": {},
   "outputs": [],
   "source": [
    "def extract_features(cluster_reviews_df, other_reviews_df):\n",
    "\n",
    "    #Filter our subsets and balance\n",
    "    cluster_reviews_filtered, other_reviews_filtered = filter_beer_reviews(cluster_reviews_df, other_reviews_df)\n",
    "\n",
    "    #Tokenize\n",
    "    cluster_reviews_filtered, other_reviews_filtered = tokenize(cluster_reviews_filtered, other_reviews_filtered)\n",
    "\n",
    "    #Change tokens into a lit\n",
    "    cluster_top_words, other_top_words = extract_top_words(cluster_reviews_filtered, other_reviews_filtered)\n",
    "\n",
    "    #Check what appearance terms our cluster correspond to\n",
    "    appearance_comparison_df = compute_criterium(cluster_top_words, other_top_words, appearance_descriptors)\n",
    "\n",
    "    ##Check what taste terms our cluster correspond to\n",
    "    flavor_comparison_df = compute_criterium(cluster_top_words, other_top_words, flavor_descriptors)\n",
    "\n",
    "    return appearance_comparison_df, flavor_comparison_df"
   ]
  },
  {
   "cell_type": "markdown",
   "metadata": {},
   "source": [
    "The next four cells are only used to load the data"
   ]
  },
  {
   "cell_type": "code",
   "execution_count": null,
   "metadata": {},
   "outputs": [
    {
     "name": "stdout",
     "output_type": "stream",
     "text": [
      "Processed file '../../../ada-2024-project-data-crusadas/src/data/BeerAdvocate\\reviews_processed.csv' already exists. Skipping processing.\n",
      "Processed file '../../../ada-2024-project-data-crusadas/src/data/BeerAdvocate\\ratings_processed.csv' already exists. Skipping processing.\n"
     ]
    }
   ],
   "source": [
    "data_loader = BeerDataLoader(data_dir=\"../../../ada-2024-project-data-crusadas/src/data/BeerAdvocate\", force_process=False)\n",
    "\n",
    "ba_reviews_df, ba_ratings_df, ba_beers_df, ba_breweries_df, ba_users_df = data_loader.load_all_data()"
   ]
  },
  {
   "cell_type": "code",
   "execution_count": 23,
   "metadata": {},
   "outputs": [],
   "source": [
    "result_df = pd.read_csv('../../../ada-2024-project-data-crusadas/src/data/beer_word_counts2.csv')\n",
    "with open('../../../ada-2024-project-data-crusadas/src/data/partition.json', 'r') as f:\n",
    "    partition = json.load(f)"
   ]
  },
  {
   "cell_type": "code",
   "execution_count": 24,
   "metadata": {},
   "outputs": [],
   "source": [
    "result_df['beer_id'] = result_df['beer_id'].astype(str)\n",
    "result_df['cluster'] = result_df['beer_id'].map(partition)\n",
    "result_df['beer_id'] = result_df['beer_id'].astype(int)"
   ]
  },
  {
   "cell_type": "code",
   "execution_count": 25,
   "metadata": {},
   "outputs": [],
   "source": [
    "interesting_rating = ba_ratings_df[['beer_id', 'appearance', 'aroma', 'palate', 'taste', 'rating']]\n",
    "mean_ratings = interesting_rating.groupby('beer_id').mean().reset_index()\n",
    "merged_df_beers = pd.merge(ba_beers_df, mean_ratings, on='beer_id', how='right')\n",
    "assigned_cluster = pd.merge(result_df[['beer_id', 'cluster']], merged_df_beers, on='beer_id', how='inner')"
   ]
  },
  {
   "cell_type": "markdown",
   "metadata": {},
   "source": [
    "In this cell we sepearate the reviews between the cluster's reviews and the other cluster's reviews"
   ]
  },
  {
   "cell_type": "code",
   "execution_count": 38,
   "metadata": {},
   "outputs": [],
   "source": [
    "cluster_number = 2\n",
    "cluster_reviews_df = ba_reviews_df[ba_reviews_df['beer_id'].isin(assigned_cluster[assigned_cluster['cluster'] == cluster_number]['beer_id'])].copy()\n",
    "cluster_reviews_df.reset_index(drop=True, inplace=True)\n",
    "other_reviews_df = ba_reviews_df[~ba_reviews_df['beer_id'].isin(assigned_cluster[assigned_cluster['cluster'] == cluster_number]['beer_id'])].copy()\n",
    "other_reviews_df.reset_index(drop=True, inplace=True)"
   ]
  },
  {
   "cell_type": "markdown",
   "metadata": {},
   "source": [
    "Here is how to call the function"
   ]
  },
  {
   "cell_type": "code",
   "execution_count": 47,
   "metadata": {},
   "outputs": [
    {
     "name": "stdout",
     "output_type": "stream",
     "text": [
      "Total number of selected IPA reviews: 100000\n",
      "Total number of selected Non-IPA reviews: 100000\n"
     ]
    }
   ],
   "source": [
    "appearance_comparison_df, flavor_comparison_df = extract_features(cluster_reviews_df, other_reviews_df)"
   ]
  },
  {
   "cell_type": "code",
   "execution_count": 48,
   "metadata": {},
   "outputs": [
    {
     "name": "stdout",
     "output_type": "stream",
     "text": [
      "    Appear  Count_IPA  Count_Non_IPA  Difference\n",
      "0     head      66395          67995       -1600\n",
      "1     dark      11684          54813      -43129\n",
      "2    brown       7229          34458      -27229\n",
      "3    light      44252          56920      -12668\n",
      "4    white      36484          25940       10544\n",
      "5   golden      17819          11324        6495\n",
      "6    straw       2294           3918       -1624\n",
      "7   orange      37225          13035       24190\n",
      "8   yellow       5889           7717       -1828\n",
      "9     pale      18423           9795        8628\n",
      "10    hazy      14367           8743        5624\n",
      "11  opaque        948           3472       -2524\n",
      "12   amber      23541          11909       11632\n"
     ]
    }
   ],
   "source": [
    "print(appearance_comparison_df)"
   ]
  }
 ],
 "metadata": {
  "kernelspec": {
   "display_name": "base",
   "language": "python",
   "name": "python3"
  },
  "language_info": {
   "codemirror_mode": {
    "name": "ipython",
    "version": 3
   },
   "file_extension": ".py",
   "mimetype": "text/x-python",
   "name": "python",
   "nbconvert_exporter": "python",
   "pygments_lexer": "ipython3",
   "version": "3.12.3"
  }
 },
 "nbformat": 4,
 "nbformat_minor": 2
}
